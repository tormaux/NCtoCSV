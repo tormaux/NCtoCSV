{
 "cells": [
  {
   "cell_type": "markdown",
   "metadata": {},
   "source": [
    "# __Importing the necessary libraries__"
   ]
  },
  {
   "cell_type": "code",
   "execution_count": 3,
   "metadata": {},
   "outputs": [],
   "source": [
    "import xarray as xr\n",
    "import numpy as np\n",
    "import pandas as pd"
   ]
  },
  {
   "cell_type": "markdown",
   "metadata": {},
   "source": [
    "# __Evaluating Variables__"
   ]
  },
  {
   "cell_type": "code",
   "execution_count": 5,
   "metadata": {},
   "outputs": [
    {
     "name": "stdout",
     "output_type": "stream",
     "text": [
      "Data variables:\n",
      "    longitude_bounds                     (longitude, bounds) float32 1kB ...\n",
      "    latitude_bounds                      (latitude, bounds) float32 576B ...\n",
      "    time_bounds                          (time, bounds) datetime64[ns] 8kB ...\n",
      "    tcdr_MSU_AMSUA_ATMS_TLT              (time, latitude, longitude) float32 22MB ...\n",
      "    tcdr_MSU_AMSUA_ATMS_TLT_anomaly      (time, latitude, longitude) float32 22MB ...\n",
      "    tcdr_MSU_AMSUA_ATMS_TLT_climatology  (month_of_year, latitude, longitude) float32 498kB ...\n"
     ]
    }
   ],
   "source": [
    "netcdf_file = 'mean_temp.nc' \n",
    "\n",
    "xrds = xr.open_dataset(netcdf_file)\n",
    "print(xrds.data_vars)   \n",
    "df = xrds.to_dataframe().to_csv('original_near_sea.csv')"
   ]
  },
  {
   "cell_type": "markdown",
   "metadata": {},
   "source": [
    "# __Removing NaN__"
   ]
  },
  {
   "cell_type": "code",
   "execution_count": null,
   "metadata": {},
   "outputs": [],
   "source": [
    "\n",
    "df.dropna(subset=['sea_surface_temperature'], inplace=True)\n",
    "df.to_csv('intermediate.csv')"
   ]
  },
  {
   "cell_type": "markdown",
   "metadata": {},
   "source": [
    "# __Normalizing Longitude__"
   ]
  },
  {
   "cell_type": "code",
   "execution_count": 4,
   "metadata": {},
   "outputs": [],
   "source": [
    "df = pd.read_csv('intermediate.csv')\n",
    "df['lon'] = (df['lon'] + 180) % 360 - 180"
   ]
  },
  {
   "cell_type": "markdown",
   "metadata": {},
   "source": [
    "# __Reconverting from csv to df__"
   ]
  },
  {
   "cell_type": "code",
   "execution_count": 6,
   "metadata": {},
   "outputs": [
    {
     "name": "stdout",
     "output_type": "stream",
     "text": [
      "Index(['time', 'lat', 'lon', 'sea_surface_temperature', 'fill_missing_qc'], dtype='object')\n",
      "Conversion completed. CSV file saved as datafiles.csv\n"
     ]
    }
   ],
   "source": [
    "df.drop(df.index[df['lat'] >35], inplace=True)\n",
    "df.drop(df.index[df['lon'] < 60], inplace=True)\n",
    "\n",
    "df.drop(df.index[df['lat'] <-11], inplace=True)\n",
    "df.drop(df.index[df['lon'] > 115], inplace=True)\n",
    "print(df.columns)\n",
    "df.to_csv('sst_dude.csv')\n",
    "print('Conversion completed. CSV file saved as datafiles.csv')"
   ]
  }
 ],
 "metadata": {
  "kernelspec": {
   "display_name": "Python 3",
   "language": "python",
   "name": "python3"
  },
  "language_info": {
   "codemirror_mode": {
    "name": "ipython",
    "version": 3
   },
   "file_extension": ".py",
   "mimetype": "text/x-python",
   "name": "python",
   "nbconvert_exporter": "python",
   "pygments_lexer": "ipython3",
   "version": "3.12.3"
  }
 },
 "nbformat": 4,
 "nbformat_minor": 2
}
